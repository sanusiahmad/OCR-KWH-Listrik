{
  "cells": [
    {
      "cell_type": "markdown",
      "metadata": {
        "id": "view-in-github",
        "colab_type": "text"
      },
      "source": [
        "<a href=\"https://colab.research.google.com/github/sanusiahmad/OCR-KWH-Listrik/blob/main/OCR_kwh_(2).ipynb\" target=\"_parent\"><img src=\"https://colab.research.google.com/assets/colab-badge.svg\" alt=\"Open In Colab\"/></a>"
      ]
    },
    {
      "cell_type": "code",
      "execution_count": null,
      "id": "980d059d",
      "metadata": {
        "id": "980d059d",
        "outputId": "39b7bf82-ed37-4634-ea7a-94a682667a90"
      },
      "outputs": [
        {
          "name": "stdout",
          "output_type": "stream",
          "text": [
            "Requirement already satisfied: imutils in c:\\users\\user\\appdata\\local\\programs\\python\\python311\\lib\\site-packages (0.5.4)\n"
          ]
        }
      ],
      "source": [
        "!pip install imutils"
      ]
    },
    {
      "cell_type": "code",
      "execution_count": null,
      "id": "cb638559",
      "metadata": {
        "id": "cb638559"
      },
      "outputs": [],
      "source": [
        "import cv2\n",
        "import imutils\n",
        "import numpy as np\n",
        "import matplotlib.pyplot as plt\n",
        "import easyocr\n",
        "import json\n",
        "import base64"
      ]
    },
    {
      "cell_type": "code",
      "execution_count": null,
      "id": "085a5462",
      "metadata": {
        "id": "085a5462"
      },
      "outputs": [],
      "source": [
        "img = cv2.imread(\"kwh3.jpg\")"
      ]
    },
    {
      "cell_type": "code",
      "execution_count": null,
      "id": "5c9259b1",
      "metadata": {
        "id": "5c9259b1",
        "outputId": "323db84d-90c3-47f4-de24-9278dba22e61"
      },
      "outputs": [
        {
          "data": {
            "text/plain": [
              "-1"
            ]
          },
          "execution_count": 34,
          "metadata": {},
          "output_type": "execute_result"
        }
      ],
      "source": [
        "img = imutils.resize(img,width=300)\n",
        "cv2.imshow(\"original image\", img)\n",
        "cv2.waitKey(0)"
      ]
    },
    {
      "cell_type": "code",
      "execution_count": null,
      "id": "bc33d0e3",
      "metadata": {
        "scrolled": true,
        "id": "bc33d0e3",
        "outputId": "2d53503d-83a4-4810-e57b-84d3ce57d6d3"
      },
      "outputs": [
        {
          "data": {
            "text/plain": [
              "-1"
            ]
          },
          "execution_count": 35,
          "metadata": {},
          "output_type": "execute_result"
        }
      ],
      "source": [
        "gray_image = cv2.cvtColor(img, cv2.COLOR_BGR2GRAY)\n",
        "cv2.imshow(\"grey image\", gray_image)\n",
        "cv2.waitKey(0)"
      ]
    },
    {
      "cell_type": "code",
      "execution_count": null,
      "id": "be66b56a",
      "metadata": {
        "id": "be66b56a",
        "outputId": "ce1005ee-0e56-4fbc-f68a-07fcc2c96d5e"
      },
      "outputs": [
        {
          "data": {
            "text/plain": [
              "-1"
            ]
          },
          "execution_count": 36,
          "metadata": {},
          "output_type": "execute_result"
        }
      ],
      "source": [
        "gray_image = cv2.bilateralFilter(gray_image,11 ,17,17)\n",
        "cv2.imshow(\"smoothened image\", gray_image)\n",
        "cv2.waitKey(0)"
      ]
    },
    {
      "cell_type": "code",
      "execution_count": null,
      "id": "b9ff17a1",
      "metadata": {
        "id": "b9ff17a1",
        "outputId": "86ed3cce-1867-4654-99c3-62380fee88a0"
      },
      "outputs": [
        {
          "data": {
            "text/plain": [
              "-1"
            ]
          },
          "execution_count": 37,
          "metadata": {},
          "output_type": "execute_result"
        }
      ],
      "source": [
        "edged = cv2.Canny(gray_image,10,50)\n",
        "cv2.imshow(\"edged image\", edged)\n",
        "cv2.waitKey(0)"
      ]
    },
    {
      "cell_type": "code",
      "execution_count": null,
      "id": "1a65a606",
      "metadata": {
        "id": "1a65a606"
      },
      "outputs": [],
      "source": [
        "cnts, new = cv2.findContours(edged.copy(),cv2.RETR_LIST, cv2.CHAIN_APPROX_SIMPLE)"
      ]
    },
    {
      "cell_type": "code",
      "execution_count": null,
      "id": "099cb8f8",
      "metadata": {
        "id": "099cb8f8",
        "outputId": "d3368933-9a49-4921-c30c-51b5a18c727a"
      },
      "outputs": [
        {
          "data": {
            "text/plain": [
              "array([[[165, 175, 184],\n",
              "        [165, 174, 183],\n",
              "        [167, 176, 185],\n",
              "        ...,\n",
              "        [176, 186, 196],\n",
              "        [178, 189, 197],\n",
              "        [175, 185, 194]],\n",
              "\n",
              "       [[167, 176, 185],\n",
              "        [167, 176, 185],\n",
              "        [166, 175, 184],\n",
              "        ...,\n",
              "        [178, 188, 198],\n",
              "        [179, 189, 199],\n",
              "        [176, 186, 196]],\n",
              "\n",
              "       [[166, 175, 184],\n",
              "        [166, 175, 184],\n",
              "        [165, 174, 183],\n",
              "        ...,\n",
              "        [178, 188, 198],\n",
              "        [179, 189, 199],\n",
              "        [178, 188, 198]],\n",
              "\n",
              "       ...,\n",
              "\n",
              "       [[186, 197, 205],\n",
              "        [186, 197, 205],\n",
              "        [187, 198, 206],\n",
              "        ...,\n",
              "        [  0, 255,   0],\n",
              "        [  0, 255,   0],\n",
              "        [  0, 255,   0]],\n",
              "\n",
              "       [[186, 197, 205],\n",
              "        [186, 197, 205],\n",
              "        [185, 196, 204],\n",
              "        ...,\n",
              "        [  0, 255,   0],\n",
              "        [  0, 255,   0],\n",
              "        [  0, 255,   0]],\n",
              "\n",
              "       [[185, 196, 204],\n",
              "        [186, 197, 205],\n",
              "        [186, 197, 205],\n",
              "        ...,\n",
              "        [  0, 255,   0],\n",
              "        [  0, 255,   0],\n",
              "        [  0, 255,   0]]], dtype=uint8)"
            ]
          },
          "execution_count": 39,
          "metadata": {},
          "output_type": "execute_result"
        }
      ],
      "source": [
        "image1 = img.copy()\n",
        "cv2.drawContours(image1,cnts,-1,(0,255,0),3)"
      ]
    },
    {
      "cell_type": "code",
      "execution_count": null,
      "id": "777ff397",
      "metadata": {
        "id": "777ff397",
        "outputId": "1c7c178c-b206-4e3e-8b6d-e97800cdcf65"
      },
      "outputs": [
        {
          "data": {
            "text/plain": [
              "-1"
            ]
          },
          "execution_count": 40,
          "metadata": {},
          "output_type": "execute_result"
        }
      ],
      "source": [
        "cv2.imshow(\"contours\",image1)\n",
        "cv2.waitKey(0)"
      ]
    },
    {
      "cell_type": "code",
      "execution_count": null,
      "id": "f3e655a3",
      "metadata": {
        "id": "f3e655a3",
        "outputId": "98f61c27-05f5-4573-bfec-3b963621310b"
      },
      "outputs": [
        {
          "data": {
            "text/plain": [
              "-1"
            ]
          },
          "execution_count": 41,
          "metadata": {},
          "output_type": "execute_result"
        }
      ],
      "source": [
        "cnts = sorted(cnts, key = cv2.contourArea, reverse = True) [:30]\n",
        "screenCnt = None\n",
        "image2 = img.copy()\n",
        "cv2.drawContours(image2,cnts,1,(0,255,0),3)\n",
        "cv2.imshow(\"Top 30 contours\", image2)\n",
        "cv2.waitKey(0)"
      ]
    },
    {
      "cell_type": "code",
      "execution_count": null,
      "id": "dc6c4323",
      "metadata": {
        "id": "dc6c4323",
        "outputId": "b36692b1-76c8-4de0-cec0-bfc4553c7271"
      },
      "outputs": [
        {
          "name": "stdout",
          "output_type": "stream",
          "text": [
            "4\n"
          ]
        }
      ],
      "source": [
        "i = 7\n",
        "for c in cnts:\n",
        "    perimeter = cv2.arcLength(c, True)\n",
        "    approx = cv2.approxPolyDP(c,0.018 * perimeter, True)\n",
        "    print(len(approx))\n",
        "    if len(approx) == 4:\n",
        "        screenCnt = approx\n",
        "        x,y,w,h = cv2.boundingRect(c)\n",
        "        new_img = img[y:y+h,x:x+w]\n",
        "        cv2.imwrite('./'+str(i)+'.jpg',new_img)\n",
        "        i+=1\n",
        "        break"
      ]
    },
    {
      "cell_type": "code",
      "execution_count": null,
      "id": "27dd280d",
      "metadata": {
        "id": "27dd280d",
        "outputId": "7727f7ac-6f08-4ce4-f9d5-5ad533984f78"
      },
      "outputs": [
        {
          "data": {
            "text/plain": [
              "array([[[288,  19]],\n",
              "\n",
              "       [[ 31,  21]],\n",
              "\n",
              "       [[ 25,  87]],\n",
              "\n",
              "       [[278,  86]]], dtype=int32)"
            ]
          },
          "execution_count": 43,
          "metadata": {},
          "output_type": "execute_result"
        }
      ],
      "source": [
        "screenCnt"
      ]
    },
    {
      "cell_type": "code",
      "execution_count": null,
      "id": "477d29b6",
      "metadata": {
        "id": "477d29b6"
      },
      "outputs": [],
      "source": [
        "mask = np.zeros(gray_image.shape, np.uint8)\n",
        "new_image = cv2.drawContours(mask, [screenCnt], 0,255, -1)\n",
        "new_image = cv2.bitwise_and(img, img, mask=mask)"
      ]
    },
    {
      "cell_type": "code",
      "execution_count": null,
      "id": "f1bbfa61",
      "metadata": {
        "id": "f1bbfa61",
        "outputId": "5c66331d-cf47-45e3-c8ef-4f9c4e8c27c1"
      },
      "outputs": [
        {
          "data": {
            "text/plain": [
              "<matplotlib.image.AxesImage at 0x1d87f20eb10>"
            ]
          },
          "execution_count": 45,
          "metadata": {},
          "output_type": "execute_result"
        },
        {
          "data": {
            "image/png": "[encoded data removed]",
            "text/plain": [
              "<Figure size 640x480 with 1 Axes>"
            ]
          },
          "metadata": {},
          "output_type": "display_data"
        }
      ],
      "source": [
        "plt.imshow(cv2.cvtColor(new_image, cv2.COLOR_BGR2RGB))"
      ]
    },
    {
      "cell_type": "code",
      "execution_count": null,
      "id": "a6a8b300",
      "metadata": {
        "id": "a6a8b300"
      },
      "outputs": [],
      "source": [
        "(x,y) = np.where(mask==255)\n",
        "(x1, y1) = (np.min(x), np.min(y))\n",
        "(x2, y2) = (np.max(x), np.max(y))\n",
        "cropped_image = gray_image[x1:x2+1, y1:y2+1]"
      ]
    },
    {
      "cell_type": "code",
      "execution_count": null,
      "id": "9ae0dc5c",
      "metadata": {
        "id": "9ae0dc5c",
        "outputId": "a70ec0d9-ac5e-472f-f33a-d06c06a8556c"
      },
      "outputs": [
        {
          "data": {
            "text/plain": [
              "<matplotlib.image.AxesImage at 0x1d80dcc1190>"
            ]
          },
          "execution_count": 47,
          "metadata": {},
          "output_type": "execute_result"
        },
        {
          "data": {
            "image/png": "[encoded data removed]",
            "text/plain": [
              "<Figure size 640x480 with 1 Axes>"
            ]
          },
          "metadata": {},
          "output_type": "display_data"
        }
      ],
      "source": [
        "plt.imshow(cv2.cvtColor(cropped_image, cv2.COLOR_BGR2RGB))"
      ]
    },
    {
      "cell_type": "code",
      "execution_count": null,
      "id": "375fc57c",
      "metadata": {
        "id": "375fc57c",
        "outputId": "cd766e5c-32fb-4a45-8580-3cddf0a22d09"
      },
      "outputs": [
        {
          "name": "stderr",
          "output_type": "stream",
          "text": [
            "Neither CUDA nor MPS are available - defaulting to CPU. Note: This module is much faster with a GPU.\n"
          ]
        },
        {
          "data": {
            "text/plain": [
              "[([[13, 3], [258, 3], [258, 64], [13, 64]], '0 3 6 8 6', 0.6375100027586135)]"
            ]
          },
          "execution_count": 48,
          "metadata": {},
          "output_type": "execute_result"
        }
      ],
      "source": [
        "reader = easyocr.Reader(['en'])\n",
        "result = reader.readtext(cropped_image)\n",
        "result"
      ]
    },
    {
      "cell_type": "code",
      "execution_count": null,
      "id": "0eb502a9",
      "metadata": {
        "id": "0eb502a9",
        "outputId": "3647158f-5c57-4997-add8-faca2af8b720"
      },
      "outputs": [
        {
          "name": "stdout",
          "output_type": "stream",
          "text": [
            "0 3 6 8 6\n"
          ]
        }
      ],
      "source": [
        "text = result[0][-2]\n",
        "print(text)"
      ]
    },
    {
      "cell_type": "code",
      "execution_count": null,
      "id": "0c3e087b",
      "metadata": {
        "id": "0c3e087b",
        "outputId": "3428f48e-7067-449d-96d3-a9d1900aae33"
      },
      "outputs": [
        {
          "name": "stdout",
          "output_type": "stream",
          "text": [
            "KWH Listrik 'KWH_Listrik.json'.\n"
          ]
        }
      ],
      "source": [
        "# 1. Muat gambar dan konversi ke format Base64\n",
        "def image_to_base64(image_path):\n",
        "    with open(image_path, \"rb\") as image_file:\n",
        "        return base64.b64encode(image_file.read()).decode('utf-8')\n",
        "\n",
        "image_path = \"kwh3.jpg\"\n",
        "encoded_image = image_to_base64(image_path)\n",
        "\n",
        "# 2. Simpan string Base64 ke dalam JSON bersama dengan data lainnya\n",
        "data = {\n",
        "    'image': encoded_image,\n",
        "    'Character': text\n",
        "}\n",
        "\n",
        "# Output the data to a JSON file\n",
        "output_file = \"KWH_Listrik.json\"\n",
        "with open(output_file, \"w\") as json_file:\n",
        "    json.dump(data, json_file, indent=4)\n",
        "\n",
        "print(f\"KWH Listrik '{output_file}'.\")"
      ]
    },
    {
      "cell_type": "code",
      "execution_count": null,
      "id": "4c8506fe",
      "metadata": {
        "id": "4c8506fe"
      },
      "outputs": [],
      "source": []
    }
  ],
  "metadata": {
    "kernelspec": {
      "display_name": "Python 3 (ipykernel)",
      "language": "python",
      "name": "python3"
    },
    "language_info": {
      "codemirror_mode": {
        "name": "ipython",
        "version": 3
      },
      "file_extension": ".py",
      "mimetype": "text/x-python",
      "name": "python",
      "nbconvert_exporter": "python",
      "pygments_lexer": "ipython3",
      "version": "3.11.4"
    },
    "colab": {
      "provenance": [],
      "include_colab_link": true
    }
  },
  "nbformat": 4,
  "nbformat_minor": 5
}